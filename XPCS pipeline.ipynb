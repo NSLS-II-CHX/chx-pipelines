{
 "cells": [
  {
   "cell_type": "markdown",
   "metadata": {},
   "source": [
    "#  XPCS   Pipeline "
   ]
  },
  {
   "cell_type": "markdown",
   "metadata": {},
   "source": [
    "Get the data from databroker"
   ]
  },
  {
   "cell_type": "code",
   "execution_count": 1,
   "metadata": {
    "collapsed": false
   },
   "outputs": [],
   "source": [
    "import numpy as np\n",
    "import matplotlib as mpl\n",
    "import matplotlib.pyplot as plt\n",
    "\n",
    "from databroker import DataBroker as db, get_images, get_table, get_events\n",
    "from filestore.api import register_handler, deregister_handler\n",
    "from filestore.retrieve import _h_registry, _HANDLER_CACHE"
   ]
  },
  {
   "cell_type": "markdown",
   "metadata": {},
   "source": [
    " ### Easily switch between interactive and static matplotlib plots"
   ]
  },
  {
   "cell_type": "code",
   "execution_count": 2,
   "metadata": {
    "collapsed": false
   },
   "outputs": [],
   "source": [
    "interactive_mode = False\n",
    "\n",
    "if interactive_mode:\n",
    "    %matplotlib notebook\n",
    "else:\n",
    "    %matplotlib inline\n",
    "\n",
    "backend = mpl.get_backend()"
   ]
  },
  {
   "cell_type": "markdown",
   "metadata": {},
   "source": [
    "### Lazy Eiger Handler (later will goto databroker)"
   ]
  },
  {
   "cell_type": "code",
   "execution_count": 3,
   "metadata": {
    "collapsed": true
   },
   "outputs": [],
   "source": [
    "import h5py"
   ]
  },
  {
   "cell_type": "code",
   "execution_count": 6,
   "metadata": {
    "collapsed": false
   },
   "outputs": [],
   "source": [
    "from filestore.retrieve import HandlerBase\n",
    "from eiger_io.pims_reader import EigerImages\n",
    "\n",
    "EIGER_MD_DICT = {\n",
    "    'y_pixel_size': 'entry/instrument/detector/y_pixel_size',\n",
    "    'x_pixel_size': 'entry/instrument/detector/x_pixel_size',\n",
    "    'detector_distance': 'entry/instrument/detector/detector_distance',\n",
    "    'incident_wavelength': 'entry/instrument/beam/incident_wavelength',\n",
    "    'frame_time': 'entry/instrument/detector/frame_time',\n",
    "    'beam_center_x': 'entry/instrument/detector/beam_center_x',\n",
    "    'beam_center_y': 'entry/instrument/detector/beam_center_y',\n",
    "    'count_time': 'entry/instrument/detector/count_time'\n",
    "}\n",
    "\n",
    "class FixedEigerImages(EigerImages):\n",
    "    def __init__(self, path, metadata):\n",
    "        super().__init__(path)\n",
    "        self._metadata = metadata\n",
    "    \n",
    "    @property\n",
    "    def md(self):\n",
    "        return self._metadata\n",
    "    \n",
    "    @property\n",
    "    def dtype(self):\n",
    "        return self.pixel_type\n",
    "    \n",
    "    @property\n",
    "    def shape(self):\n",
    "        return self.frame_shape\n",
    "\n",
    "class LazyEigerHandler(HandlerBase):\n",
    "    specs = {'AD_EIGER'} | HandlerBase.specs\n",
    "    def __init__(self, fpath, frame_per_point, mapping=None):\n",
    "        # create pims handler\n",
    "        self.vals_dict = EIGER_MD_DICT.copy()\n",
    "        if mapping is not None:\n",
    "            self.vals_dict.update(mapping)\n",
    "        self._base_path = fpath\n",
    "        self.fpp = frame_per_point\n",
    "\n",
    "    def __call__(self, seq_id):\n",
    "        import h5py\n",
    "        master_path = '{}_{}_master.h5'.format(self._base_path, seq_id)\n",
    "        md = {}\n",
    "        print('hdf5 path = %s' % master_path)\n",
    "        with h5py.File(master_path, 'r') as f:\n",
    "            md = {k: f[v].value for k, v in self.vals_dict.items()}\n",
    "            \n",
    "        # TODO Return a multi-dimensional PIMS seq.\n",
    "        return FixedEigerImages(master_path, md)\n",
    "\n",
    "deregister_handler('AD_EIGER')\n",
    "register_handler('AD_EIGER', LazyEigerHandler)"
   ]
  },
  {
   "cell_type": "markdown",
   "metadata": {},
   "source": [
    "### Get the events from the uid"
   ]
  },
  {
   "cell_type": "code",
   "execution_count": 7,
   "metadata": {
    "collapsed": false
   },
   "outputs": [],
   "source": [
    "hdr = db['e59f5']"
   ]
  },
  {
   "cell_type": "code",
   "execution_count": 8,
   "metadata": {
    "collapsed": false
   },
   "outputs": [
    {
     "data": {
      "text/plain": [
       "['stop', 'start', 'descriptors']"
      ]
     },
     "execution_count": 8,
     "metadata": {},
     "output_type": "execute_result"
    }
   ],
   "source": [
    "list(hdr.keys())"
   ]
  },
  {
   "cell_type": "code",
   "execution_count": 9,
   "metadata": {
    "collapsed": false
   },
   "outputs": [
    {
     "data": {
      "text/plain": [
       "[{'data_keys': {'eiger_4M_cam_img_acquire_period': {'dtype': 'number',\n",
       "    'shape': [],\n",
       "    'source': 'PV:XF:11IDB-BI{Det:Eig4M}cam1:AcquirePeriod_RBV'},\n",
       "   'eiger_4M_cam_img_acquire_time': {'dtype': 'number',\n",
       "    'shape': [],\n",
       "    'source': 'PV:XF:11IDB-BI{Det:Eig4M}cam1:AcquireTime_RBV'},\n",
       "   'eiger_4M_cam_img_image_lightfield': {'dtype': 'array',\n",
       "    'external': 'FILESTORE:',\n",
       "    'shape': [3000, 2167, 2070],\n",
       "    'source': 'PV:XF:11IDB-BI{Det:Eig4M}'},\n",
       "   'eiger_4M_cam_img_stats_total1': {'dtype': 'number',\n",
       "    'shape': [],\n",
       "    'source': 'PV:XF:11IDB-BI{Det:Eig4M}Stats1:Total_RBV'},\n",
       "   'eiger_4M_cam_img_stats_total2': {'dtype': 'number',\n",
       "    'shape': [],\n",
       "    'source': 'PV:XF:11IDB-BI{Det:Eig4M}Stats2:Total_RBV'},\n",
       "   'eiger_4M_cam_img_stats_total3': {'dtype': 'number',\n",
       "    'shape': [],\n",
       "    'source': 'PV:XF:11IDB-BI{Det:Eig4M}Stats3:Total_RBV'},\n",
       "   'eiger_4M_cam_img_stats_total4': {'dtype': 'number',\n",
       "    'shape': [],\n",
       "    'source': 'PV:XF:11IDB-BI{Det:Eig4M}Stats4:Total_RBV'},\n",
       "   'eiger_4M_cam_img_stats_total5': {'dtype': 'number',\n",
       "    'shape': [],\n",
       "    'source': 'PV:XF:11IDB-BI{Det:Eig4M}Stats5:Total_RBV'},\n",
       "   'eiger_4M_cam_imgsequenceid': {'dtype': 'number',\n",
       "    'shape': [],\n",
       "    'source': 'PV:XF:11IDB-BI{Det:Eig4M}cam1:SequenceId'}},\n",
       "  'run_start': 'e59f567d-c936-482b-8f8a-1566fdbc901d',\n",
       "  'time': 1445051154.6419652,\n",
       "  'uid': 'fd3dacac-bdcb-4c50-82ab-913eeebf32b1'}]"
      ]
     },
     "execution_count": 9,
     "metadata": {},
     "output_type": "execute_result"
    }
   ],
   "source": [
    "hdr['descriptors']"
   ]
  },
  {
   "cell_type": "code",
   "execution_count": 13,
   "metadata": {
    "collapsed": false,
    "scrolled": false
   },
   "outputs": [
    {
     "name": "stdout",
     "output_type": "stream",
     "text": [
      "hdf5 path = /XF11ID/data/2015/10/16/bcdd8b95-6adc-476b-9c65_25_master.h5\n"
     ]
    }
   ],
   "source": [
    "ev, = get_events(db['e59f567d'], ['eiger_4M_cam_img_image_lightfield'])"
   ]
  },
  {
   "cell_type": "code",
   "execution_count": 14,
   "metadata": {
    "collapsed": false
   },
   "outputs": [
    {
     "data": {
      "text/html": [
       "\n",
       "<table>\n",
       "\n",
       "  <tr>\n",
       "    <th> data </th>\n",
       "    <td>\n",
       "      \n",
       "        <table>\n",
       "          \n",
       "  <tr>\n",
       "    <th> eiger_4M_cam_img_image_lightfield </th>\n",
       "    <td>\n",
       "      \n",
       "          \n",
       "            <Frames>\n",
       "Length: 3000 frames\n",
       "Frame Shape: 2167 x 2070\n",
       "Pixel Datatype: uint16\n",
       "          \n",
       "        \n",
       "    </td>\n",
       "  </tr>\n",
       "\n",
       "        </table>\n",
       "        \n",
       "    </td>\n",
       "  </tr>\n",
       "\n",
       "  <tr>\n",
       "    <th> descriptor </th>\n",
       "    <td>\n",
       "      \n",
       "        <table>\n",
       "          \n",
       "  <tr>\n",
       "    <th> data_keys </th>\n",
       "    <td>\n",
       "      \n",
       "        <table>\n",
       "          \n",
       "  <tr>\n",
       "    <th> eiger_4M_cam_img_acquire_period </th>\n",
       "    <td>\n",
       "      \n",
       "        <table>\n",
       "          \n",
       "  <tr>\n",
       "    <th> dtype </th>\n",
       "    <td>\n",
       "      \n",
       "          \n",
       "            number\n",
       "          \n",
       "        \n",
       "    </td>\n",
       "  </tr>\n",
       "\n",
       "  <tr>\n",
       "    <th> shape </th>\n",
       "    <td>\n",
       "      \n",
       "          \n",
       "            []\n",
       "          \n",
       "        \n",
       "    </td>\n",
       "  </tr>\n",
       "\n",
       "  <tr>\n",
       "    <th> source </th>\n",
       "    <td>\n",
       "      \n",
       "          \n",
       "            PV:XF:11IDB-BI{Det:Eig4M}cam1:AcquirePeriod_RBV\n",
       "          \n",
       "        \n",
       "    </td>\n",
       "  </tr>\n",
       "\n",
       "        </table>\n",
       "        \n",
       "    </td>\n",
       "  </tr>\n",
       "\n",
       "  <tr>\n",
       "    <th> eiger_4M_cam_img_acquire_time </th>\n",
       "    <td>\n",
       "      \n",
       "        <table>\n",
       "          \n",
       "  <tr>\n",
       "    <th> dtype </th>\n",
       "    <td>\n",
       "      \n",
       "          \n",
       "            number\n",
       "          \n",
       "        \n",
       "    </td>\n",
       "  </tr>\n",
       "\n",
       "  <tr>\n",
       "    <th> shape </th>\n",
       "    <td>\n",
       "      \n",
       "          \n",
       "            []\n",
       "          \n",
       "        \n",
       "    </td>\n",
       "  </tr>\n",
       "\n",
       "  <tr>\n",
       "    <th> source </th>\n",
       "    <td>\n",
       "      \n",
       "          \n",
       "            PV:XF:11IDB-BI{Det:Eig4M}cam1:AcquireTime_RBV\n",
       "          \n",
       "        \n",
       "    </td>\n",
       "  </tr>\n",
       "\n",
       "        </table>\n",
       "        \n",
       "    </td>\n",
       "  </tr>\n",
       "\n",
       "  <tr>\n",
       "    <th> eiger_4M_cam_img_image_lightfield </th>\n",
       "    <td>\n",
       "      \n",
       "        <table>\n",
       "          \n",
       "  <tr>\n",
       "    <th> dtype </th>\n",
       "    <td>\n",
       "      \n",
       "          \n",
       "            array\n",
       "          \n",
       "        \n",
       "    </td>\n",
       "  </tr>\n",
       "\n",
       "  <tr>\n",
       "    <th> external </th>\n",
       "    <td>\n",
       "      \n",
       "          \n",
       "            FILESTORE:\n",
       "          \n",
       "        \n",
       "    </td>\n",
       "  </tr>\n",
       "\n",
       "  <tr>\n",
       "    <th> shape </th>\n",
       "    <td>\n",
       "      \n",
       "          \n",
       "            [3000, 2167, 2070]\n",
       "          \n",
       "        \n",
       "    </td>\n",
       "  </tr>\n",
       "\n",
       "  <tr>\n",
       "    <th> source </th>\n",
       "    <td>\n",
       "      \n",
       "          \n",
       "            PV:XF:11IDB-BI{Det:Eig4M}\n",
       "          \n",
       "        \n",
       "    </td>\n",
       "  </tr>\n",
       "\n",
       "        </table>\n",
       "        \n",
       "    </td>\n",
       "  </tr>\n",
       "\n",
       "  <tr>\n",
       "    <th> eiger_4M_cam_img_stats_total1 </th>\n",
       "    <td>\n",
       "      \n",
       "        <table>\n",
       "          \n",
       "  <tr>\n",
       "    <th> dtype </th>\n",
       "    <td>\n",
       "      \n",
       "          \n",
       "            number\n",
       "          \n",
       "        \n",
       "    </td>\n",
       "  </tr>\n",
       "\n",
       "  <tr>\n",
       "    <th> shape </th>\n",
       "    <td>\n",
       "      \n",
       "          \n",
       "            []\n",
       "          \n",
       "        \n",
       "    </td>\n",
       "  </tr>\n",
       "\n",
       "  <tr>\n",
       "    <th> source </th>\n",
       "    <td>\n",
       "      \n",
       "          \n",
       "            PV:XF:11IDB-BI{Det:Eig4M}Stats1:Total_RBV\n",
       "          \n",
       "        \n",
       "    </td>\n",
       "  </tr>\n",
       "\n",
       "        </table>\n",
       "        \n",
       "    </td>\n",
       "  </tr>\n",
       "\n",
       "  <tr>\n",
       "    <th> eiger_4M_cam_img_stats_total2 </th>\n",
       "    <td>\n",
       "      \n",
       "        <table>\n",
       "          \n",
       "  <tr>\n",
       "    <th> dtype </th>\n",
       "    <td>\n",
       "      \n",
       "          \n",
       "            number\n",
       "          \n",
       "        \n",
       "    </td>\n",
       "  </tr>\n",
       "\n",
       "  <tr>\n",
       "    <th> shape </th>\n",
       "    <td>\n",
       "      \n",
       "          \n",
       "            []\n",
       "          \n",
       "        \n",
       "    </td>\n",
       "  </tr>\n",
       "\n",
       "  <tr>\n",
       "    <th> source </th>\n",
       "    <td>\n",
       "      \n",
       "          \n",
       "            PV:XF:11IDB-BI{Det:Eig4M}Stats2:Total_RBV\n",
       "          \n",
       "        \n",
       "    </td>\n",
       "  </tr>\n",
       "\n",
       "        </table>\n",
       "        \n",
       "    </td>\n",
       "  </tr>\n",
       "\n",
       "  <tr>\n",
       "    <th> eiger_4M_cam_img_stats_total3 </th>\n",
       "    <td>\n",
       "      \n",
       "        <table>\n",
       "          \n",
       "  <tr>\n",
       "    <th> dtype </th>\n",
       "    <td>\n",
       "      \n",
       "          \n",
       "            number\n",
       "          \n",
       "        \n",
       "    </td>\n",
       "  </tr>\n",
       "\n",
       "  <tr>\n",
       "    <th> shape </th>\n",
       "    <td>\n",
       "      \n",
       "          \n",
       "            []\n",
       "          \n",
       "        \n",
       "    </td>\n",
       "  </tr>\n",
       "\n",
       "  <tr>\n",
       "    <th> source </th>\n",
       "    <td>\n",
       "      \n",
       "          \n",
       "            PV:XF:11IDB-BI{Det:Eig4M}Stats3:Total_RBV\n",
       "          \n",
       "        \n",
       "    </td>\n",
       "  </tr>\n",
       "\n",
       "        </table>\n",
       "        \n",
       "    </td>\n",
       "  </tr>\n",
       "\n",
       "  <tr>\n",
       "    <th> eiger_4M_cam_img_stats_total4 </th>\n",
       "    <td>\n",
       "      \n",
       "        <table>\n",
       "          \n",
       "  <tr>\n",
       "    <th> dtype </th>\n",
       "    <td>\n",
       "      \n",
       "          \n",
       "            number\n",
       "          \n",
       "        \n",
       "    </td>\n",
       "  </tr>\n",
       "\n",
       "  <tr>\n",
       "    <th> shape </th>\n",
       "    <td>\n",
       "      \n",
       "          \n",
       "            []\n",
       "          \n",
       "        \n",
       "    </td>\n",
       "  </tr>\n",
       "\n",
       "  <tr>\n",
       "    <th> source </th>\n",
       "    <td>\n",
       "      \n",
       "          \n",
       "            PV:XF:11IDB-BI{Det:Eig4M}Stats4:Total_RBV\n",
       "          \n",
       "        \n",
       "    </td>\n",
       "  </tr>\n",
       "\n",
       "        </table>\n",
       "        \n",
       "    </td>\n",
       "  </tr>\n",
       "\n",
       "  <tr>\n",
       "    <th> eiger_4M_cam_img_stats_total5 </th>\n",
       "    <td>\n",
       "      \n",
       "        <table>\n",
       "          \n",
       "  <tr>\n",
       "    <th> dtype </th>\n",
       "    <td>\n",
       "      \n",
       "          \n",
       "            number\n",
       "          \n",
       "        \n",
       "    </td>\n",
       "  </tr>\n",
       "\n",
       "  <tr>\n",
       "    <th> shape </th>\n",
       "    <td>\n",
       "      \n",
       "          \n",
       "            []\n",
       "          \n",
       "        \n",
       "    </td>\n",
       "  </tr>\n",
       "\n",
       "  <tr>\n",
       "    <th> source </th>\n",
       "    <td>\n",
       "      \n",
       "          \n",
       "            PV:XF:11IDB-BI{Det:Eig4M}Stats5:Total_RBV\n",
       "          \n",
       "        \n",
       "    </td>\n",
       "  </tr>\n",
       "\n",
       "        </table>\n",
       "        \n",
       "    </td>\n",
       "  </tr>\n",
       "\n",
       "  <tr>\n",
       "    <th> eiger_4M_cam_imgsequenceid </th>\n",
       "    <td>\n",
       "      \n",
       "        <table>\n",
       "          \n",
       "  <tr>\n",
       "    <th> dtype </th>\n",
       "    <td>\n",
       "      \n",
       "          \n",
       "            number\n",
       "          \n",
       "        \n",
       "    </td>\n",
       "  </tr>\n",
       "\n",
       "  <tr>\n",
       "    <th> shape </th>\n",
       "    <td>\n",
       "      \n",
       "          \n",
       "            []\n",
       "          \n",
       "        \n",
       "    </td>\n",
       "  </tr>\n",
       "\n",
       "  <tr>\n",
       "    <th> source </th>\n",
       "    <td>\n",
       "      \n",
       "          \n",
       "            PV:XF:11IDB-BI{Det:Eig4M}cam1:SequenceId\n",
       "          \n",
       "        \n",
       "    </td>\n",
       "  </tr>\n",
       "\n",
       "        </table>\n",
       "        \n",
       "    </td>\n",
       "  </tr>\n",
       "\n",
       "        </table>\n",
       "        \n",
       "    </td>\n",
       "  </tr>\n",
       "\n",
       "  <tr>\n",
       "    <th> run_start </th>\n",
       "    <td>\n",
       "      \n",
       "        <table>\n",
       "          \n",
       "  <tr>\n",
       "    <th> beamline_id </th>\n",
       "    <td>\n",
       "      \n",
       "          \n",
       "            CHX\n",
       "          \n",
       "        \n",
       "    </td>\n",
       "  </tr>\n",
       "\n",
       "  <tr>\n",
       "    <th> config </th>\n",
       "    <td>\n",
       "      \n",
       "        <table>\n",
       "          \n",
       "        </table>\n",
       "        \n",
       "    </td>\n",
       "  </tr>\n",
       "\n",
       "  <tr>\n",
       "    <th> group </th>\n",
       "    <td>\n",
       "      \n",
       "          \n",
       "            chx\n",
       "          \n",
       "        \n",
       "    </td>\n",
       "  </tr>\n",
       "\n",
       "  <tr>\n",
       "    <th> owner </th>\n",
       "    <td>\n",
       "      \n",
       "          \n",
       "            xf11id\n",
       "          \n",
       "        \n",
       "    </td>\n",
       "  </tr>\n",
       "\n",
       "  <tr>\n",
       "    <th> project </th>\n",
       "    <td>\n",
       "      \n",
       "          \n",
       "            Eiger 4M series with CoralPort glass\n",
       "          \n",
       "        \n",
       "    </td>\n",
       "  </tr>\n",
       "\n",
       "  <tr>\n",
       "    <th> sample </th>\n",
       "    <td>\n",
       "      \n",
       "        <table>\n",
       "          \n",
       "        </table>\n",
       "        \n",
       "    </td>\n",
       "  </tr>\n",
       "\n",
       "  <tr>\n",
       "    <th> scan_args </th>\n",
       "    <td>\n",
       "      \n",
       "        <table>\n",
       "          \n",
       "  <tr>\n",
       "    <th> delay </th>\n",
       "    <td>\n",
       "      \n",
       "          \n",
       "            0\n",
       "          \n",
       "        \n",
       "    </td>\n",
       "  </tr>\n",
       "\n",
       "  <tr>\n",
       "    <th> detectors </th>\n",
       "    <td>\n",
       "      \n",
       "          \n",
       "            [AreaDetectorFileStoreEiger(name='eiger_4M_cam_img', basename='XF:11IDB-BI{Det:Eig4M}', stats=range(1, 6), shutter=None, shutter_rb=None, shutter_val=None, file_path='/XF11ID/data/', ioc_file_path=None)]\n",
       "          \n",
       "        \n",
       "    </td>\n",
       "  </tr>\n",
       "\n",
       "  <tr>\n",
       "    <th> num </th>\n",
       "    <td>\n",
       "      \n",
       "          \n",
       "            1\n",
       "          \n",
       "        \n",
       "    </td>\n",
       "  </tr>\n",
       "\n",
       "        </table>\n",
       "        \n",
       "    </td>\n",
       "  </tr>\n",
       "\n",
       "  <tr>\n",
       "    <th> scan_id </th>\n",
       "    <td>\n",
       "      \n",
       "          \n",
       "            301\n",
       "          \n",
       "        \n",
       "    </td>\n",
       "  </tr>\n",
       "\n",
       "  <tr>\n",
       "    <th> scan_type </th>\n",
       "    <td>\n",
       "      \n",
       "          \n",
       "            Count\n",
       "          \n",
       "        \n",
       "    </td>\n",
       "  </tr>\n",
       "\n",
       "  <tr>\n",
       "    <th> time </th>\n",
       "    <td>\n",
       "      \n",
       "          \n",
       "            12 days ago (2015-10-16T23:00:56.438557)\n",
       "          \n",
       "        \n",
       "    </td>\n",
       "  </tr>\n",
       "\n",
       "  <tr>\n",
       "    <th> uid </th>\n",
       "    <td>\n",
       "      \n",
       "          \n",
       "            e59f567d-c936-482b-8f8a-1566fdbc901d\n",
       "          \n",
       "        \n",
       "    </td>\n",
       "  </tr>\n",
       "\n",
       "        </table>\n",
       "        \n",
       "    </td>\n",
       "  </tr>\n",
       "\n",
       "  <tr>\n",
       "    <th> time </th>\n",
       "    <td>\n",
       "      \n",
       "          \n",
       "            12 days ago (2015-10-16T23:05:54.641965)\n",
       "          \n",
       "        \n",
       "    </td>\n",
       "  </tr>\n",
       "\n",
       "  <tr>\n",
       "    <th> uid </th>\n",
       "    <td>\n",
       "      \n",
       "          \n",
       "            fd3dacac-bdcb-4c50-82ab-913eeebf32b1\n",
       "          \n",
       "        \n",
       "    </td>\n",
       "  </tr>\n",
       "\n",
       "        </table>\n",
       "        \n",
       "    </td>\n",
       "  </tr>\n",
       "\n",
       "  <tr>\n",
       "    <th> seq_num </th>\n",
       "    <td>\n",
       "      \n",
       "          \n",
       "            1\n",
       "          \n",
       "        \n",
       "    </td>\n",
       "  </tr>\n",
       "\n",
       "  <tr>\n",
       "    <th> time </th>\n",
       "    <td>\n",
       "      \n",
       "          \n",
       "            12 days ago (2015-10-16T23:05:54.676124)\n",
       "          \n",
       "        \n",
       "    </td>\n",
       "  </tr>\n",
       "\n",
       "  <tr>\n",
       "    <th> timestamps </th>\n",
       "    <td>\n",
       "      \n",
       "        <table>\n",
       "          \n",
       "  <tr>\n",
       "    <th> eiger_4M_cam_img_image_lightfield </th>\n",
       "    <td>\n",
       "      \n",
       "          \n",
       "            1445051154.589171\n",
       "          \n",
       "        \n",
       "    </td>\n",
       "  </tr>\n",
       "\n",
       "        </table>\n",
       "        \n",
       "    </td>\n",
       "  </tr>\n",
       "\n",
       "  <tr>\n",
       "    <th> uid </th>\n",
       "    <td>\n",
       "      \n",
       "          \n",
       "            6904ca18-2da8-4a1e-b939-e1705859a8b4\n",
       "          \n",
       "        \n",
       "    </td>\n",
       "  </tr>\n",
       "\n",
       "</table>"
      ],
      "text/plain": [
       "{'data': {'eiger_4M_cam_img_image_lightfield': <Frames>\n",
       "  Length: 3000 frames\n",
       "  Frame Shape: 2167 x 2070\n",
       "  Pixel Datatype: uint16},\n",
       " 'descriptor': {'data_keys': {'eiger_4M_cam_img_acquire_period': {'dtype': 'number',\n",
       "    'shape': [],\n",
       "    'source': 'PV:XF:11IDB-BI{Det:Eig4M}cam1:AcquirePeriod_RBV'},\n",
       "   'eiger_4M_cam_img_acquire_time': {'dtype': 'number',\n",
       "    'shape': [],\n",
       "    'source': 'PV:XF:11IDB-BI{Det:Eig4M}cam1:AcquireTime_RBV'},\n",
       "   'eiger_4M_cam_img_image_lightfield': {'dtype': 'array',\n",
       "    'external': 'FILESTORE:',\n",
       "    'shape': [3000, 2167, 2070],\n",
       "    'source': 'PV:XF:11IDB-BI{Det:Eig4M}'},\n",
       "   'eiger_4M_cam_img_stats_total1': {'dtype': 'number',\n",
       "    'shape': [],\n",
       "    'source': 'PV:XF:11IDB-BI{Det:Eig4M}Stats1:Total_RBV'},\n",
       "   'eiger_4M_cam_img_stats_total2': {'dtype': 'number',\n",
       "    'shape': [],\n",
       "    'source': 'PV:XF:11IDB-BI{Det:Eig4M}Stats2:Total_RBV'},\n",
       "   'eiger_4M_cam_img_stats_total3': {'dtype': 'number',\n",
       "    'shape': [],\n",
       "    'source': 'PV:XF:11IDB-BI{Det:Eig4M}Stats3:Total_RBV'},\n",
       "   'eiger_4M_cam_img_stats_total4': {'dtype': 'number',\n",
       "    'shape': [],\n",
       "    'source': 'PV:XF:11IDB-BI{Det:Eig4M}Stats4:Total_RBV'},\n",
       "   'eiger_4M_cam_img_stats_total5': {'dtype': 'number',\n",
       "    'shape': [],\n",
       "    'source': 'PV:XF:11IDB-BI{Det:Eig4M}Stats5:Total_RBV'},\n",
       "   'eiger_4M_cam_imgsequenceid': {'dtype': 'number',\n",
       "    'shape': [],\n",
       "    'source': 'PV:XF:11IDB-BI{Det:Eig4M}cam1:SequenceId'}},\n",
       "  'run_start': {'beamline_id': 'CHX',\n",
       "   'config': {},\n",
       "   'group': 'chx',\n",
       "   'owner': 'xf11id',\n",
       "   'project': 'Eiger 4M series with CoralPort glass',\n",
       "   'sample': {},\n",
       "   'scan_args': {'delay': '0',\n",
       "    'detectors': \"[AreaDetectorFileStoreEiger(name='eiger_4M_cam_img', basename='XF:11IDB-BI{Det:Eig4M}', stats=range(1, 6), shutter=None, shutter_rb=None, shutter_val=None, file_path='/XF11ID/data/', ioc_file_path=None)]\",\n",
       "    'num': '1'},\n",
       "   'scan_id': 301,\n",
       "   'scan_type': 'Count',\n",
       "   'time': 1445050856.4385571,\n",
       "   'uid': 'e59f567d-c936-482b-8f8a-1566fdbc901d'},\n",
       "  'time': 1445051154.6419652,\n",
       "  'uid': 'fd3dacac-bdcb-4c50-82ab-913eeebf32b1'},\n",
       " 'seq_num': 1,\n",
       " 'time': 1445051154.6761246,\n",
       " 'timestamps': {'eiger_4M_cam_img_image_lightfield': 1445051154.589171},\n",
       " 'uid': '6904ca18-2da8-4a1e-b939-e1705859a8b4'}"
      ]
     },
     "execution_count": 14,
     "metadata": {},
     "output_type": "execute_result"
    }
   ],
   "source": [
    "ev"
   ]
  },
  {
   "cell_type": "code",
   "execution_count": 15,
   "metadata": {
    "collapsed": false
   },
   "outputs": [],
   "source": [
    "imgs = ev['data']['eiger_4M_cam_img_image_lightfield']"
   ]
  },
  {
   "cell_type": "code",
   "execution_count": 16,
   "metadata": {
    "collapsed": false
   },
   "outputs": [
    {
     "data": {
      "text/plain": [
       "<Frames>\n",
       "Length: 3000 frames\n",
       "Frame Shape: 2167 x 2070\n",
       "Pixel Datatype: uint16"
      ]
     },
     "execution_count": 16,
     "metadata": {},
     "output_type": "execute_result"
    }
   ],
   "source": [
    "imgs"
   ]
  },
  {
   "cell_type": "code",
   "execution_count": 17,
   "metadata": {
    "collapsed": false
   },
   "outputs": [
    {
     "data": {
      "text/plain": [
       "{'beam_center_x': 0.0,\n",
       " 'beam_center_y': 0.0,\n",
       " 'count_time': 0.0039962204,\n",
       " 'detector_distance': 1000.0,\n",
       " 'frame_time': 0.0040000002,\n",
       " 'incident_wavelength': 1.3811316,\n",
       " 'x_pixel_size': 7.5000004e-05,\n",
       " 'y_pixel_size': 7.5000004e-05}"
      ]
     },
     "execution_count": 17,
     "metadata": {},
     "output_type": "execute_result"
    }
   ],
   "source": [
    "imgs.md"
   ]
  },
  {
   "cell_type": "markdown",
   "metadata": {},
   "source": [
    "## Interactive way to browse through images.\n",
    "\n",
    "### Note : Provide the number of images that you want to browse"
   ]
  },
  {
   "cell_type": "code",
   "execution_count": 18,
   "metadata": {
    "collapsed": false,
    "scrolled": true
   },
   "outputs": [
    {
     "data": {
      "image/png": "[encoded data removed]",
      "text/plain": [
       "<matplotlib.figure.Figure at 0x7f4ff6241e80>"
      ]
     },
     "metadata": {},
     "output_type": "display_data"
    }
   ],
   "source": [
    "from ipywidgets import interact\n",
    "\n",
    "def view_image(i):\n",
    "    plt.imshow(imgs[i], interpolation='nearest', cmap='viridis', vmin=0, vmax=1e0)\n",
    "    plt.title(\"Browse the Image Stack\")\n",
    "    plt.show()\n",
    "    \n",
    "interact(view_image, i=(0, 2999))"
   ]
  },
  {
   "cell_type": "code",
   "execution_count": 19,
   "metadata": {
    "collapsed": false
   },
   "outputs": [],
   "source": [
    "#hey, let's see if any images are bad!\n",
    "imgsum = [np.sum(img) for img in imgs]"
   ]
  },
  {
   "cell_type": "code",
   "execution_count": 20,
   "metadata": {
    "collapsed": false
   },
   "outputs": [
    {
     "data": {
      "text/plain": [
       "[<matplotlib.lines.Line2D at 0x7f4ffff6c1d0>]"
      ]
     },
     "execution_count": 20,
     "metadata": {},
     "output_type": "execute_result"
    },
    {
     "data": {
      "image/png": "[encoded data removed]",
      "text/plain": [
       "<matplotlib.figure.Figure at 0x7f50000b6160>"
      ]
     },
     "metadata": {},
     "output_type": "display_data"
    }
   ],
   "source": [
    "plt.plot(imgsum)"
   ]
  },
  {
   "cell_type": "markdown",
   "metadata": {},
   "source": [
    "### Get the Averaged Image Data"
   ]
  },
  {
   "cell_type": "code",
   "execution_count": 21,
   "metadata": {
    "collapsed": false,
    "scrolled": true
   },
   "outputs": [
    {
     "name": "stderr",
     "output_type": "stream",
     "text": [
      "--- Logging error ---\n",
      "Traceback (most recent call last):\n",
      "  File \"/opt/conda_envs/analysis/lib/python3.4/logging/__init__.py\", line 982, in emit\n",
      "    self.flush()\n",
      "  File \"/opt/conda_envs/analysis/lib/python3.4/logging/__init__.py\", line 962, in flush\n",
      "    self.stream.flush()\n",
      "BrokenPipeError: [Errno 32] Broken pipe\n",
      "Call stack:\n",
      "  File \"/opt/conda_envs/analysis/lib/python3.4/runpy.py\", line 170, in _run_module_as_main\n",
      "    \"__main__\", mod_spec)\n",
      "  File \"/opt/conda_envs/analysis/lib/python3.4/runpy.py\", line 85, in _run_code\n",
      "    exec(code, run_globals)\n",
      "  File \"/opt/conda_envs/analysis/lib/python3.4/site-packages/IPython/kernel/__main__.py\", line 3, in <module>\n",
      "    app.launch_new_instance()\n",
      "  File \"/opt/conda_envs/analysis/lib/python3.4/site-packages/traitlets/config/application.py\", line 592, in launch_instance\n",
      "    app.start()\n",
      "  File \"/opt/conda_envs/analysis/lib/python3.4/site-packages/ipykernel/kernelapp.py\", line 389, in start\n",
      "    ioloop.IOLoop.instance().start()\n",
      "  File \"/opt/conda_envs/analysis/lib/python3.4/site-packages/zmq/eventloop/ioloop.py\", line 151, in start\n",
      "    super(ZMQIOLoop, self).start()\n",
      "  File \"/opt/conda_envs/analysis/lib/python3.4/site-packages/tornado/ioloop.py\", line 866, in start\n",
      "    handler_func(fd_obj, events)\n",
      "  File \"/opt/conda_envs/analysis/lib/python3.4/site-packages/tornado/stack_context.py\", line 275, in null_wrapper\n",
      "    return fn(*args, **kwargs)\n",
      "  File \"/opt/conda_envs/analysis/lib/python3.4/site-packages/zmq/eventloop/zmqstream.py\", line 433, in _handle_events\n",
      "    self._handle_recv()\n",
      "  File \"/opt/conda_envs/analysis/lib/python3.4/site-packages/zmq/eventloop/zmqstream.py\", line 465, in _handle_recv\n",
      "    self._run_callback(callback, msg)\n",
      "  File \"/opt/conda_envs/analysis/lib/python3.4/site-packages/zmq/eventloop/zmqstream.py\", line 407, in _run_callback\n",
      "    callback(*args, **kwargs)\n",
      "  File \"/opt/conda_envs/analysis/lib/python3.4/site-packages/tornado/stack_context.py\", line 275, in null_wrapper\n",
      "    return fn(*args, **kwargs)\n",
      "  File \"/opt/conda_envs/analysis/lib/python3.4/site-packages/ipykernel/kernelbase.py\", line 252, in dispatcher\n",
      "    return self.dispatch_shell(stream, msg)\n",
      "  File \"/opt/conda_envs/analysis/lib/python3.4/site-packages/ipykernel/kernelbase.py\", line 191, in dispatch_shell\n",
      "    self.log.debug('\\n*** MESSAGE TYPE:%s***', msg_type)\n",
      "Message: '\\n*** MESSAGE TYPE:%s***'\n",
      "Arguments: ('execute_request',)\n",
      "--- Logging error ---\n",
      "Traceback (most recent call last):\n",
      "  File \"/opt/conda_envs/analysis/lib/python3.4/logging/__init__.py\", line 982, in emit\n",
      "    self.flush()\n",
      "  File \"/opt/conda_envs/analysis/lib/python3.4/logging/__init__.py\", line 962, in flush\n",
      "    self.stream.flush()\n",
      "BrokenPipeError: [Errno 32] Broken pipe\n",
      "Call stack:\n",
      "  File \"/opt/conda_envs/analysis/lib/python3.4/runpy.py\", line 170, in _run_module_as_main\n",
      "    \"__main__\", mod_spec)\n",
      "  File \"/opt/conda_envs/analysis/lib/python3.4/runpy.py\", line 85, in _run_code\n",
      "    exec(code, run_globals)\n",
      "  File \"/opt/conda_envs/analysis/lib/python3.4/site-packages/IPython/kernel/__main__.py\", line 3, in <module>\n",
      "    app.launch_new_instance()\n",
      "  File \"/opt/conda_envs/analysis/lib/python3.4/site-packages/traitlets/config/application.py\", line 592, in launch_instance\n",
      "    app.start()\n",
      "  File \"/opt/conda_envs/analysis/lib/python3.4/site-packages/ipykernel/kernelapp.py\", line 389, in start\n",
      "    ioloop.IOLoop.instance().start()\n",
      "  File \"/opt/conda_envs/analysis/lib/python3.4/site-packages/zmq/eventloop/ioloop.py\", line 151, in start\n",
      "    super(ZMQIOLoop, self).start()\n",
      "  File \"/opt/conda_envs/analysis/lib/python3.4/site-packages/tornado/ioloop.py\", line 866, in start\n",
      "    handler_func(fd_obj, events)\n",
      "  File \"/opt/conda_envs/analysis/lib/python3.4/site-packages/tornado/stack_context.py\", line 275, in null_wrapper\n",
      "    return fn(*args, **kwargs)\n",
      "  File \"/opt/conda_envs/analysis/lib/python3.4/site-packages/zmq/eventloop/zmqstream.py\", line 433, in _handle_events\n",
      "    self._handle_recv()\n",
      "  File \"/opt/conda_envs/analysis/lib/python3.4/site-packages/zmq/eventloop/zmqstream.py\", line 465, in _handle_recv\n",
      "    self._run_callback(callback, msg)\n",
      "  File \"/opt/conda_envs/analysis/lib/python3.4/site-packages/zmq/eventloop/zmqstream.py\", line 407, in _run_callback\n",
      "    callback(*args, **kwargs)\n",
      "  File \"/opt/conda_envs/analysis/lib/python3.4/site-packages/tornado/stack_context.py\", line 275, in null_wrapper\n",
      "    return fn(*args, **kwargs)\n",
      "  File \"/opt/conda_envs/analysis/lib/python3.4/site-packages/ipykernel/kernelbase.py\", line 252, in dispatcher\n",
      "    return self.dispatch_shell(stream, msg)\n",
      "  File \"/opt/conda_envs/analysis/lib/python3.4/site-packages/ipykernel/kernelbase.py\", line 192, in dispatch_shell\n",
      "    self.log.debug('   Content: %s\\n   --->\\n   ', msg['content'])\n",
      "Message: '   Content: %s\\n   --->\\n   '\n",
      "Arguments: {'stop_on_error': True, 'allow_stdin': True, 'user_expressions': {}, 'silent': False, 'code': 'avg_img = np.average(imgs, axis=0)\\n\\n# Plot the result\\nfig, ax = plt.subplots()\\nax.imshow(avg_img, vmin=0, vmax=1e0)\\nax.set_title(\"Averaged Data\")\\nplt.show()', 'store_history': True}\n",
      "--- Logging error ---\n",
      "Traceback (most recent call last):\n",
      "  File \"/opt/conda_envs/analysis/lib/python3.4/logging/__init__.py\", line 982, in emit\n",
      "    self.flush()\n",
      "  File \"/opt/conda_envs/analysis/lib/python3.4/logging/__init__.py\", line 962, in flush\n",
      "    self.stream.flush()\n",
      "BrokenPipeError: [Errno 32] Broken pipe\n",
      "Call stack:\n",
      "  File \"/opt/conda_envs/analysis/lib/python3.4/runpy.py\", line 170, in _run_module_as_main\n",
      "    \"__main__\", mod_spec)\n",
      "  File \"/opt/conda_envs/analysis/lib/python3.4/runpy.py\", line 85, in _run_code\n",
      "    exec(code, run_globals)\n",
      "  File \"/opt/conda_envs/analysis/lib/python3.4/site-packages/IPython/kernel/__main__.py\", line 3, in <module>\n",
      "    app.launch_new_instance()\n",
      "  File \"/opt/conda_envs/analysis/lib/python3.4/site-packages/traitlets/config/application.py\", line 592, in launch_instance\n",
      "    app.start()\n",
      "  File \"/opt/conda_envs/analysis/lib/python3.4/site-packages/ipykernel/kernelapp.py\", line 389, in start\n",
      "    ioloop.IOLoop.instance().start()\n",
      "  File \"/opt/conda_envs/analysis/lib/python3.4/site-packages/zmq/eventloop/ioloop.py\", line 151, in start\n",
      "    super(ZMQIOLoop, self).start()\n",
      "  File \"/opt/conda_envs/analysis/lib/python3.4/site-packages/tornado/ioloop.py\", line 866, in start\n",
      "    handler_func(fd_obj, events)\n",
      "  File \"/opt/conda_envs/analysis/lib/python3.4/site-packages/tornado/stack_context.py\", line 275, in null_wrapper\n",
      "    return fn(*args, **kwargs)\n",
      "  File \"/opt/conda_envs/analysis/lib/python3.4/site-packages/zmq/eventloop/zmqstream.py\", line 433, in _handle_events\n",
      "    self._handle_recv()\n",
      "  File \"/opt/conda_envs/analysis/lib/python3.4/site-packages/zmq/eventloop/zmqstream.py\", line 465, in _handle_recv\n",
      "    self._run_callback(callback, msg)\n",
      "  File \"/opt/conda_envs/analysis/lib/python3.4/site-packages/zmq/eventloop/zmqstream.py\", line 407, in _run_callback\n",
      "    callback(*args, **kwargs)\n",
      "  File \"/opt/conda_envs/analysis/lib/python3.4/site-packages/tornado/stack_context.py\", line 275, in null_wrapper\n",
      "    return fn(*args, **kwargs)\n",
      "  File \"/opt/conda_envs/analysis/lib/python3.4/site-packages/ipykernel/kernelbase.py\", line 252, in dispatcher\n",
      "    return self.dispatch_shell(stream, msg)\n",
      "  File \"/opt/conda_envs/analysis/lib/python3.4/site-packages/ipykernel/kernelbase.py\", line 211, in dispatch_shell\n",
      "    self.log.debug(\"%s: %s\", msg_type, msg)\n",
      "Message: '%s: %s'\n",
      "Arguments: ('execute_request', {'msg_type': 'execute_request', 'parent_header': {}, 'content': {'stop_on_error': True, 'allow_stdin': True, 'user_expressions': {}, 'silent': False, 'code': 'avg_img = np.average(imgs, axis=0)\\n\\n# Plot the result\\nfig, ax = plt.subplots()\\nax.imshow(avg_img, vmin=0, vmax=1e0)\\nax.set_title(\"Averaged Data\")\\nplt.show()', 'store_history': True}, 'metadata': {}, 'header': {'msg_type': 'execute_request', 'version': '5.0', 'username': 'username', 'msg_id': 'E5C708DD99BE49AB867436C112C31B5D', 'session': '1721FA6ECBCC4A37ADFE6A00487B4A2A'}, 'msg_id': 'E5C708DD99BE49AB867436C112C31B5D', 'buffers': []})\n"
     ]
    },
    {
     "data": {
      "image/png": "[encoded data removed]",
      "text/plain": [
       "<matplotlib.figure.Figure at 0x7f4ffff1bda0>"
      ]
     },
     "metadata": {},
     "output_type": "display_data"
    },
    {
     "name": "stderr",
     "output_type": "stream",
     "text": [
      "--- Logging error ---\n",
      "Traceback (most recent call last):\n",
      "  File \"/opt/conda_envs/analysis/lib/python3.4/logging/__init__.py\", line 982, in emit\n",
      "    self.flush()\n",
      "  File \"/opt/conda_envs/analysis/lib/python3.4/logging/__init__.py\", line 962, in flush\n",
      "    self.stream.flush()\n",
      "BrokenPipeError: [Errno 32] Broken pipe\n",
      "Call stack:\n",
      "  File \"/opt/conda_envs/analysis/lib/python3.4/runpy.py\", line 170, in _run_module_as_main\n",
      "    \"__main__\", mod_spec)\n",
      "  File \"/opt/conda_envs/analysis/lib/python3.4/runpy.py\", line 85, in _run_code\n",
      "    exec(code, run_globals)\n",
      "  File \"/opt/conda_envs/analysis/lib/python3.4/site-packages/IPython/kernel/__main__.py\", line 3, in <module>\n",
      "    app.launch_new_instance()\n",
      "  File \"/opt/conda_envs/analysis/lib/python3.4/site-packages/traitlets/config/application.py\", line 592, in launch_instance\n",
      "    app.start()\n",
      "  File \"/opt/conda_envs/analysis/lib/python3.4/site-packages/ipykernel/kernelapp.py\", line 389, in start\n",
      "    ioloop.IOLoop.instance().start()\n",
      "  File \"/opt/conda_envs/analysis/lib/python3.4/site-packages/zmq/eventloop/ioloop.py\", line 151, in start\n",
      "    super(ZMQIOLoop, self).start()\n",
      "  File \"/opt/conda_envs/analysis/lib/python3.4/site-packages/tornado/ioloop.py\", line 866, in start\n",
      "    handler_func(fd_obj, events)\n",
      "  File \"/opt/conda_envs/analysis/lib/python3.4/site-packages/tornado/stack_context.py\", line 275, in null_wrapper\n",
      "    return fn(*args, **kwargs)\n",
      "  File \"/opt/conda_envs/analysis/lib/python3.4/site-packages/zmq/eventloop/zmqstream.py\", line 433, in _handle_events\n",
      "    self._handle_recv()\n",
      "  File \"/opt/conda_envs/analysis/lib/python3.4/site-packages/zmq/eventloop/zmqstream.py\", line 465, in _handle_recv\n",
      "    self._run_callback(callback, msg)\n",
      "  File \"/opt/conda_envs/analysis/lib/python3.4/site-packages/zmq/eventloop/zmqstream.py\", line 407, in _run_callback\n",
      "    callback(*args, **kwargs)\n",
      "  File \"/opt/conda_envs/analysis/lib/python3.4/site-packages/tornado/stack_context.py\", line 275, in null_wrapper\n",
      "    return fn(*args, **kwargs)\n",
      "  File \"/opt/conda_envs/analysis/lib/python3.4/site-packages/ipykernel/kernelbase.py\", line 252, in dispatcher\n",
      "    return self.dispatch_shell(stream, msg)\n",
      "  File \"/opt/conda_envs/analysis/lib/python3.4/site-packages/ipykernel/kernelbase.py\", line 213, in dispatch_shell\n",
      "    handler(stream, idents, msg)\n",
      "  File \"/opt/conda_envs/analysis/lib/python3.4/site-packages/ipykernel/kernelbase.py\", line 385, in execute_request\n",
      "    self.log.debug(\"%s\", reply_msg)\n",
      "Message: '%s'\n",
      "Arguments: {'msg_type': 'execute_reply', 'parent_header': {'msg_type': 'execute_request', 'version': '5.0', 'username': 'username', 'msg_id': 'E5C708DD99BE49AB867436C112C31B5D', 'session': '1721FA6ECBCC4A37ADFE6A00487B4A2A'}, 'content': {'status': 'ok', 'payload': [], 'execution_count': 21, 'user_expressions': {}}, 'metadata': {'engine': 'e2b5bf4a-c18f-41f2-9c07-5547d439dee3', 'started': datetime.datetime(2015, 10, 29, 15, 57, 12, 818774), 'dependencies_met': True, 'status': 'ok'}, 'header': {'msg_type': 'execute_reply', 'session': 'b96bee21-59aa-4694-8331-ef862a59d8b5', 'version': '5.0', 'username': 'fluerasu', 'msg_id': 'dc81c0ec-6c51-4a6e-bf8a-06f0a4a2e2ce', 'date': datetime.datetime(2015, 10, 29, 15, 59, 7, 14562)}, 'msg_id': 'dc81c0ec-6c51-4a6e-bf8a-06f0a4a2e2ce', 'tracker': <zmq.sugar.tracker.MessageTracker object at 0x7f50db918eb8>}\n"
     ]
    }
   ],
   "source": [
    "avg_img = np.average(imgs, axis=0)\n",
    "\n",
    "# Plot the result\n",
    "fig, ax = plt.subplots()\n",
    "ax.imshow(avg_img, vmin=0, vmax=1e0)\n",
    "ax.set_title(\"Averaged Data\")\n",
    "plt.show()"
   ]
  },
  {
   "cell_type": "markdown",
   "metadata": {},
   "source": [
    "## Import all the required packages for  Data Analysis\n",
    "\n",
    "* scikit-xray - data analysis tools for X-ray science \n",
    "    - https://github.com/scikit-xray/scikit-xray\n",
    "* xray-vision - plotting helper functions for X-ray science\n",
    "    - https://github.com/Nikea/xray-vision\n"
   ]
  },
  {
   "cell_type": "code",
   "execution_count": 23,
   "metadata": {
    "collapsed": false
   },
   "outputs": [
    {
     "name": "stderr",
     "output_type": "stream",
     "text": [
      "--- Logging error ---\n",
      "Traceback (most recent call last):\n",
      "  File \"/opt/conda_envs/analysis/lib/python3.4/logging/__init__.py\", line 982, in emit\n",
      "    self.flush()\n",
      "  File \"/opt/conda_envs/analysis/lib/python3.4/logging/__init__.py\", line 962, in flush\n",
      "    self.stream.flush()\n",
      "BrokenPipeError: [Errno 32] Broken pipe\n",
      "Call stack:\n",
      "  File \"/opt/conda_envs/analysis/lib/python3.4/runpy.py\", line 170, in _run_module_as_main\n",
      "    \"__main__\", mod_spec)\n",
      "  File \"/opt/conda_envs/analysis/lib/python3.4/runpy.py\", line 85, in _run_code\n",
      "    exec(code, run_globals)\n",
      "  File \"/opt/conda_envs/analysis/lib/python3.4/site-packages/IPython/kernel/__main__.py\", line 3, in <module>\n",
      "    app.launch_new_instance()\n",
      "  File \"/opt/conda_envs/analysis/lib/python3.4/site-packages/traitlets/config/application.py\", line 592, in launch_instance\n",
      "    app.start()\n",
      "  File \"/opt/conda_envs/analysis/lib/python3.4/site-packages/ipykernel/kernelapp.py\", line 389, in start\n",
      "    ioloop.IOLoop.instance().start()\n",
      "  File \"/opt/conda_envs/analysis/lib/python3.4/site-packages/zmq/eventloop/ioloop.py\", line 151, in start\n",
      "    super(ZMQIOLoop, self).start()\n",
      "  File \"/opt/conda_envs/analysis/lib/python3.4/site-packages/tornado/ioloop.py\", line 866, in start\n",
      "    handler_func(fd_obj, events)\n",
      "  File \"/opt/conda_envs/analysis/lib/python3.4/site-packages/tornado/stack_context.py\", line 275, in null_wrapper\n",
      "    return fn(*args, **kwargs)\n",
      "  File \"/opt/conda_envs/analysis/lib/python3.4/site-packages/zmq/eventloop/zmqstream.py\", line 433, in _handle_events\n",
      "    self._handle_recv()\n",
      "  File \"/opt/conda_envs/analysis/lib/python3.4/site-packages/zmq/eventloop/zmqstream.py\", line 465, in _handle_recv\n",
      "    self._run_callback(callback, msg)\n",
      "  File \"/opt/conda_envs/analysis/lib/python3.4/site-packages/zmq/eventloop/zmqstream.py\", line 407, in _run_callback\n",
      "    callback(*args, **kwargs)\n",
      "  File \"/opt/conda_envs/analysis/lib/python3.4/site-packages/tornado/stack_context.py\", line 275, in null_wrapper\n",
      "    return fn(*args, **kwargs)\n",
      "  File \"/opt/conda_envs/analysis/lib/python3.4/site-packages/ipykernel/kernelbase.py\", line 252, in dispatcher\n",
      "    return self.dispatch_shell(stream, msg)\n",
      "  File \"/opt/conda_envs/analysis/lib/python3.4/site-packages/ipykernel/kernelbase.py\", line 191, in dispatch_shell\n",
      "    self.log.debug('\\n*** MESSAGE TYPE:%s***', msg_type)\n",
      "Message: '\\n*** MESSAGE TYPE:%s***'\n",
      "Arguments: ('execute_request',)\n",
      "--- Logging error ---\n",
      "Traceback (most recent call last):\n",
      "  File \"/opt/conda_envs/analysis/lib/python3.4/logging/__init__.py\", line 982, in emit\n",
      "    self.flush()\n",
      "  File \"/opt/conda_envs/analysis/lib/python3.4/logging/__init__.py\", line 962, in flush\n",
      "    self.stream.flush()\n",
      "BrokenPipeError: [Errno 32] Broken pipe\n",
      "Call stack:\n",
      "  File \"/opt/conda_envs/analysis/lib/python3.4/runpy.py\", line 170, in _run_module_as_main\n",
      "    \"__main__\", mod_spec)\n",
      "  File \"/opt/conda_envs/analysis/lib/python3.4/runpy.py\", line 85, in _run_code\n",
      "    exec(code, run_globals)\n",
      "  File \"/opt/conda_envs/analysis/lib/python3.4/site-packages/IPython/kernel/__main__.py\", line 3, in <module>\n",
      "    app.launch_new_instance()\n",
      "  File \"/opt/conda_envs/analysis/lib/python3.4/site-packages/traitlets/config/application.py\", line 592, in launch_instance\n",
      "    app.start()\n",
      "  File \"/opt/conda_envs/analysis/lib/python3.4/site-packages/ipykernel/kernelapp.py\", line 389, in start\n",
      "    ioloop.IOLoop.instance().start()\n",
      "  File \"/opt/conda_envs/analysis/lib/python3.4/site-packages/zmq/eventloop/ioloop.py\", line 151, in start\n",
      "    super(ZMQIOLoop, self).start()\n",
      "  File \"/opt/conda_envs/analysis/lib/python3.4/site-packages/tornado/ioloop.py\", line 866, in start\n",
      "    handler_func(fd_obj, events)\n",
      "  File \"/opt/conda_envs/analysis/lib/python3.4/site-packages/tornado/stack_context.py\", line 275, in null_wrapper\n",
      "    return fn(*args, **kwargs)\n",
      "  File \"/opt/conda_envs/analysis/lib/python3.4/site-packages/zmq/eventloop/zmqstream.py\", line 433, in _handle_events\n",
      "    self._handle_recv()\n",
      "  File \"/opt/conda_envs/analysis/lib/python3.4/site-packages/zmq/eventloop/zmqstream.py\", line 465, in _handle_recv\n",
      "    self._run_callback(callback, msg)\n",
      "  File \"/opt/conda_envs/analysis/lib/python3.4/site-packages/zmq/eventloop/zmqstream.py\", line 407, in _run_callback\n",
      "    callback(*args, **kwargs)\n",
      "  File \"/opt/conda_envs/analysis/lib/python3.4/site-packages/tornado/stack_context.py\", line 275, in null_wrapper\n",
      "    return fn(*args, **kwargs)\n",
      "  File \"/opt/conda_envs/analysis/lib/python3.4/site-packages/ipykernel/kernelbase.py\", line 252, in dispatcher\n",
      "    return self.dispatch_shell(stream, msg)\n",
      "  File \"/opt/conda_envs/analysis/lib/python3.4/site-packages/ipykernel/kernelbase.py\", line 192, in dispatch_shell\n",
      "    self.log.debug('   Content: %s\\n   --->\\n   ', msg['content'])\n",
      "Message: '   Content: %s\\n   --->\\n   '\n",
      "Arguments: {'stop_on_error': True, 'allow_stdin': True, 'user_expressions': {}, 'silent': False, 'code': 'import xray_vision\\nimport xray_vision.mpl_plotting as mpl_plot  \\nfrom xray_vision.mask.manual_mask import ManualMask\\n\\nimport skxray.core.roi as roi\\nimport skxray.core.correlation as corr\\nimport skxray.core.utils as utils', 'store_history': True}\n",
      "--- Logging error ---\n",
      "Traceback (most recent call last):\n",
      "  File \"/opt/conda_envs/analysis/lib/python3.4/logging/__init__.py\", line 982, in emit\n",
      "    self.flush()\n",
      "  File \"/opt/conda_envs/analysis/lib/python3.4/logging/__init__.py\", line 962, in flush\n",
      "    self.stream.flush()\n",
      "BrokenPipeError: [Errno 32] Broken pipe\n",
      "Call stack:\n",
      "  File \"/opt/conda_envs/analysis/lib/python3.4/runpy.py\", line 170, in _run_module_as_main\n",
      "    \"__main__\", mod_spec)\n",
      "  File \"/opt/conda_envs/analysis/lib/python3.4/runpy.py\", line 85, in _run_code\n",
      "    exec(code, run_globals)\n",
      "  File \"/opt/conda_envs/analysis/lib/python3.4/site-packages/IPython/kernel/__main__.py\", line 3, in <module>\n",
      "    app.launch_new_instance()\n",
      "  File \"/opt/conda_envs/analysis/lib/python3.4/site-packages/traitlets/config/application.py\", line 592, in launch_instance\n",
      "    app.start()\n",
      "  File \"/opt/conda_envs/analysis/lib/python3.4/site-packages/ipykernel/kernelapp.py\", line 389, in start\n",
      "    ioloop.IOLoop.instance().start()\n",
      "  File \"/opt/conda_envs/analysis/lib/python3.4/site-packages/zmq/eventloop/ioloop.py\", line 151, in start\n",
      "    super(ZMQIOLoop, self).start()\n",
      "  File \"/opt/conda_envs/analysis/lib/python3.4/site-packages/tornado/ioloop.py\", line 866, in start\n",
      "    handler_func(fd_obj, events)\n",
      "  File \"/opt/conda_envs/analysis/lib/python3.4/site-packages/tornado/stack_context.py\", line 275, in null_wrapper\n",
      "    return fn(*args, **kwargs)\n",
      "  File \"/opt/conda_envs/analysis/lib/python3.4/site-packages/zmq/eventloop/zmqstream.py\", line 433, in _handle_events\n",
      "    self._handle_recv()\n",
      "  File \"/opt/conda_envs/analysis/lib/python3.4/site-packages/zmq/eventloop/zmqstream.py\", line 465, in _handle_recv\n",
      "    self._run_callback(callback, msg)\n",
      "  File \"/opt/conda_envs/analysis/lib/python3.4/site-packages/zmq/eventloop/zmqstream.py\", line 407, in _run_callback\n",
      "    callback(*args, **kwargs)\n",
      "  File \"/opt/conda_envs/analysis/lib/python3.4/site-packages/tornado/stack_context.py\", line 275, in null_wrapper\n",
      "    return fn(*args, **kwargs)\n",
      "  File \"/opt/conda_envs/analysis/lib/python3.4/site-packages/ipykernel/kernelbase.py\", line 252, in dispatcher\n",
      "    return self.dispatch_shell(stream, msg)\n",
      "  File \"/opt/conda_envs/analysis/lib/python3.4/site-packages/ipykernel/kernelbase.py\", line 211, in dispatch_shell\n",
      "    self.log.debug(\"%s: %s\", msg_type, msg)\n",
      "Message: '%s: %s'\n",
      "Arguments: ('execute_request', {'msg_type': 'execute_request', 'parent_header': {}, 'content': {'stop_on_error': True, 'allow_stdin': True, 'user_expressions': {}, 'silent': False, 'code': 'import xray_vision\\nimport xray_vision.mpl_plotting as mpl_plot  \\nfrom xray_vision.mask.manual_mask import ManualMask\\n\\nimport skxray.core.roi as roi\\nimport skxray.core.correlation as corr\\nimport skxray.core.utils as utils', 'store_history': True}, 'metadata': {}, 'header': {'msg_type': 'execute_request', 'version': '5.0', 'username': 'username', 'msg_id': '5D2C6424C0114D5F8219F7C96CCD1756', 'session': '1721FA6ECBCC4A37ADFE6A00487B4A2A'}, 'msg_id': '5D2C6424C0114D5F8219F7C96CCD1756', 'buffers': []})\n",
      "--- Logging error ---\n",
      "Traceback (most recent call last):\n",
      "  File \"/opt/conda_envs/analysis/lib/python3.4/logging/__init__.py\", line 982, in emit\n",
      "    self.flush()\n",
      "  File \"/opt/conda_envs/analysis/lib/python3.4/logging/__init__.py\", line 962, in flush\n",
      "    self.stream.flush()\n",
      "BrokenPipeError: [Errno 32] Broken pipe\n",
      "Call stack:\n",
      "  File \"/opt/conda_envs/analysis/lib/python3.4/runpy.py\", line 170, in _run_module_as_main\n",
      "    \"__main__\", mod_spec)\n",
      "  File \"/opt/conda_envs/analysis/lib/python3.4/runpy.py\", line 85, in _run_code\n",
      "    exec(code, run_globals)\n",
      "  File \"/opt/conda_envs/analysis/lib/python3.4/site-packages/IPython/kernel/__main__.py\", line 3, in <module>\n",
      "    app.launch_new_instance()\n",
      "  File \"/opt/conda_envs/analysis/lib/python3.4/site-packages/traitlets/config/application.py\", line 592, in launch_instance\n",
      "    app.start()\n",
      "  File \"/opt/conda_envs/analysis/lib/python3.4/site-packages/ipykernel/kernelapp.py\", line 389, in start\n",
      "    ioloop.IOLoop.instance().start()\n",
      "  File \"/opt/conda_envs/analysis/lib/python3.4/site-packages/zmq/eventloop/ioloop.py\", line 151, in start\n",
      "    super(ZMQIOLoop, self).start()\n",
      "  File \"/opt/conda_envs/analysis/lib/python3.4/site-packages/tornado/ioloop.py\", line 866, in start\n",
      "    handler_func(fd_obj, events)\n",
      "  File \"/opt/conda_envs/analysis/lib/python3.4/site-packages/tornado/stack_context.py\", line 275, in null_wrapper\n",
      "    return fn(*args, **kwargs)\n",
      "  File \"/opt/conda_envs/analysis/lib/python3.4/site-packages/zmq/eventloop/zmqstream.py\", line 433, in _handle_events\n",
      "    self._handle_recv()\n",
      "  File \"/opt/conda_envs/analysis/lib/python3.4/site-packages/zmq/eventloop/zmqstream.py\", line 465, in _handle_recv\n",
      "    self._run_callback(callback, msg)\n",
      "  File \"/opt/conda_envs/analysis/lib/python3.4/site-packages/zmq/eventloop/zmqstream.py\", line 407, in _run_callback\n",
      "    callback(*args, **kwargs)\n",
      "  File \"/opt/conda_envs/analysis/lib/python3.4/site-packages/tornado/stack_context.py\", line 275, in null_wrapper\n",
      "    return fn(*args, **kwargs)\n",
      "  File \"/opt/conda_envs/analysis/lib/python3.4/site-packages/ipykernel/kernelbase.py\", line 252, in dispatcher\n",
      "    return self.dispatch_shell(stream, msg)\n",
      "  File \"/opt/conda_envs/analysis/lib/python3.4/site-packages/ipykernel/kernelbase.py\", line 213, in dispatch_shell\n",
      "    handler(stream, idents, msg)\n",
      "  File \"/opt/conda_envs/analysis/lib/python3.4/site-packages/ipykernel/kernelbase.py\", line 385, in execute_request\n",
      "    self.log.debug(\"%s\", reply_msg)\n",
      "Message: '%s'\n",
      "Arguments: {'msg_type': 'execute_reply', 'parent_header': {'msg_type': 'execute_request', 'version': '5.0', 'username': 'username', 'msg_id': '5D2C6424C0114D5F8219F7C96CCD1756', 'session': '1721FA6ECBCC4A37ADFE6A00487B4A2A'}, 'content': {'status': 'ok', 'payload': [], 'execution_count': 23, 'user_expressions': {}}, 'metadata': {'engine': 'e2b5bf4a-c18f-41f2-9c07-5547d439dee3', 'started': datetime.datetime(2015, 10, 29, 15, 59, 7, 543858), 'dependencies_met': True, 'status': 'ok'}, 'header': {'msg_type': 'execute_reply', 'session': 'b96bee21-59aa-4694-8331-ef862a59d8b5', 'version': '5.0', 'username': 'fluerasu', 'msg_id': '8715a58b-5e30-47f9-a2c2-398aa4395ab0', 'date': datetime.datetime(2015, 10, 29, 15, 59, 7, 548261)}, 'msg_id': '8715a58b-5e30-47f9-a2c2-398aa4395ab0', 'tracker': <zmq.sugar.tracker.MessageTracker object at 0x7f50db918eb8>}\n"
     ]
    }
   ],
   "source": [
    "import xray_vision\n",
    "import xray_vision.mpl_plotting as mpl_plot  \n",
    "from xray_vision.mask.manual_mask import ManualMask\n",
    "\n",
    "import skxray.core.roi as roi\n",
    "import skxray.core.correlation as corr\n",
    "import skxray.core.utils as utils"
   ]
  },
  {
   "cell_type": "markdown",
   "metadata": {},
   "source": [
    "## Note:  Enter the following experiment information \n",
    "\n",
    "* The physical size of the pixels\n",
    "* Wavelegth of the X-rays  - (units in Angstroms)\n",
    "* Detector to sample distance\n",
    "* Exposure time - (units in seconds)\n",
    "* acqusition period - (units in seconds)\n",
    "* dead time - (units in seconds)\n",
    "* time per frame = (exposure time + dead_time or acqusition period) - (units in seconds)"
   ]
  },
  {
   "cell_type": "code",
   "execution_count": null,
   "metadata": {
    "collapsed": false
   },
   "outputs": [],
   "source": [
    "# The physical size of the pixels\n",
    "dpix = 0.075  \n",
    " \n",
    "lambda_ = 1.3776    # wavelegth of the X-rays in Angstroms\n",
    "Ldet = 5000.        # detector to sample distance\n",
    "\n",
    "exposuretime= 100e-3\n",
    "acquisition_period = 100e-3\n",
    "\n",
    "# deadtime= 0   # 60e-6 \n",
    "# timeperframe = exposuretime + deadtime\n",
    "timeperframe = acquisition_period  "
   ]
  },
  {
   "cell_type": "markdown",
   "metadata": {
    "collapsed": false
   },
   "source": [
    "## Create the mask file\n",
    "\n",
    "More information : https://github.com/Nikea/xray-vision/blob/master/xray_vision/mask/manual_mask.py"
   ]
  },
  {
   "cell_type": "code",
   "execution_count": null,
   "metadata": {
    "collapsed": false
   },
   "outputs": [],
   "source": [
    "% matplotlib notebook\n",
    "\n",
    "m = ManualMask(avg_img, vmin=0, vmax=1e0)"
   ]
  },
  {
   "cell_type": "code",
   "execution_count": null,
   "metadata": {
    "collapsed": false
   },
   "outputs": [],
   "source": [
    "new_mask = m.mask\n",
    "\n",
    "plt.imshow(new_mask)\n",
    "plt.show()"
   ]
  },
  {
   "cell_type": "markdown",
   "metadata": {},
   "source": [
    "## Input the mask file"
   ]
  },
  {
   "cell_type": "code",
   "execution_count": null,
   "metadata": {
    "collapsed": false
   },
   "outputs": [],
   "source": [
    "cd Analysis_Pipelines/"
   ]
  },
  {
   "cell_type": "code",
   "execution_count": null,
   "metadata": {
    "collapsed": false
   },
   "outputs": [],
   "source": [
    "%matplotlib inline\n",
    "\n",
    "mask = ~np.load(\"./mask2.npy\")\n",
    "\n",
    "fig, ax = plt.subplots(figsize=(8, 8))\n",
    "ax.imshow(avg_img*mask, vmin=0, vmax=1e0)\n",
    "ax.set_title(\"Masked Data\")\n",
    "plt.show()"
   ]
  },
  {
   "cell_type": "markdown",
   "metadata": {},
   "source": [
    "## Get the approximate center and see the statistic to make sure "
   ]
  },
  {
   "cell_type": "code",
   "execution_count": null,
   "metadata": {
    "collapsed": true
   },
   "outputs": [],
   "source": [
    "center = (1634.66, 838.6)  # center of the speckle pattern"
   ]
  },
  {
   "cell_type": "markdown",
   "metadata": {},
   "source": [
    "### Circular Average : compute the radial integartion from the center of the speckle pattern"
   ]
  },
  {
   "cell_type": "code",
   "execution_count": null,
   "metadata": {
    "collapsed": false
   },
   "outputs": [],
   "source": [
    "bin_centers, ring_averages= roi.circular_average(avg_img*mask, center, threshold=0, nx=100,\n",
    "                                         pixel_size=(dpix, dpix))\n",
    "\n",
    "#  convert to q (reciprocal space)\n",
    "two_theta = utils.radius_to_twotheta(Ldet, bin_centers)\n",
    "q_val = utils.twotheta_to_q(two_theta, lambda_)"
   ]
  },
  {
   "cell_type": "code",
   "execution_count": null,
   "metadata": {
    "collapsed": false
   },
   "outputs": [],
   "source": [
    "fig, axes = plt.subplots( figsize=(6, 6))\n",
    "axes.semilogy(q_val, ring_averages, '-o')\n",
    "axes.set_title(\"Circular Average\")\n",
    "axes.set_ylabel(\"Ring Avearge\")\n",
    "axes.set_xlabel(\"Bin Centers (1/Angstroms)\")\n",
    "axes.set_xlim(0, 0.1)\n",
    "plt.show()"
   ]
  },
  {
   "cell_type": "markdown",
   "metadata": {},
   "source": [
    "## Plot Kymograph (Waterfall plot) for a vertical and hortizontal cuts]\n",
    "\n",
    "\n",
    "Note : Give coordinates of the upper-left corner and width and height of each\n",
    "rectangle: e.g., [(x, y, w, h), (x, y, w, h)]\n"
   ]
  },
  {
   "cell_type": "code",
   "execution_count": null,
   "metadata": {
    "collapsed": false
   },
   "outputs": [],
   "source": [
    "vert_rect = ((1500, 803, 40, 20), (1554, 546, 30, 40), (1454, 1098, 20, 60)) \n",
    "\n",
    "V_K_label_array = roi.rectangles(vert_rect, avg_img.shape)\n",
    "\n",
    "plt.imshow(V_K_label_array)\n",
    "plt.show()"
   ]
  },
  {
   "cell_type": "code",
   "execution_count": null,
   "metadata": {
    "collapsed": false
   },
   "outputs": [],
   "source": [
    "veri_kymo = roi.kymograph(imgs, V_K_label_array*mask, num = 1)"
   ]
  },
  {
   "cell_type": "code",
   "execution_count": null,
   "metadata": {
    "collapsed": false
   },
   "outputs": [],
   "source": [
    "fig, ax = plt.subplots(figsize=(14,10))\n",
    "ax.set_xlabel('Pixel')\n",
    "ax.set_ylabel('Frame')\n",
    "ax.set_title('Kymograph')\n",
    "ax.imshow(veri_kymo, cmap='gist_earth')\n",
    "plt.show()"
   ]
  },
  {
   "cell_type": "code",
   "execution_count": null,
   "metadata": {
    "collapsed": false
   },
   "outputs": [],
   "source": [
    "hori_kymo = roi.kymograph(imgs, V_K_label_array*mask, num=2)\n",
    "\n",
    "fig, ax = plt.subplots(figsize=(14,10))\n",
    "ax.set_xlabel('Pixel')\n",
    "ax.set_ylabel('Frame')\n",
    "ax.set_title('Kymograph')\n",
    "ax.imshow(hori_kymo, cmap='gist_earth')\n",
    "plt.show()"
   ]
  },
  {
   "cell_type": "markdown",
   "metadata": {},
   "source": [
    "## Create label array (Q rings)"
   ]
  },
  {
   "cell_type": "code",
   "execution_count": null,
   "metadata": {
    "collapsed": false
   },
   "outputs": [],
   "source": [
    "inner_radius = 100# radius of the first ring\n",
    "width = 10        # width of each ring\n",
    "spacing = 3      # no spacing between rings\n",
    "num_rings = 15   # number of rings\n",
    "\n",
    "#  find the edges of the required rings\n",
    "edges = roi.ring_edges(inner_radius, width, spacing, num_rings)\n",
    "edges"
   ]
  },
  {
   "cell_type": "code",
   "execution_count": null,
   "metadata": {
    "collapsed": false
   },
   "outputs": [],
   "source": [
    "two_theta = utils.radius_to_twotheta(Ldet, edges*dpix)\n",
    "q_ring_val = utils.twotheta_to_q(two_theta, lambda_)\n",
    "\n",
    "q_ring_val"
   ]
  },
  {
   "cell_type": "code",
   "execution_count": null,
   "metadata": {
    "collapsed": false
   },
   "outputs": [],
   "source": [
    "fig, axes = plt.subplots( figsize=(6, 6))\n",
    "axes.semilogy(q_val, ring_averages, '-o')\n",
    "axes.set_title(\"Circular Average with the Q ring values\")\n",
    "axes.set_ylabel(\"Ring Avearge\")\n",
    "axes.set_xlabel(\"Bin Centers (1/Angstroms)\")\n",
    "axes.set_xlim(0, 0.1)\n",
    "for i in range(num_rings):\n",
    "    axes.axvline(q_ring_val[i, 0])\n",
    "plt.show()"
   ]
  },
  {
   "cell_type": "code",
   "execution_count": null,
   "metadata": {
    "collapsed": false
   },
   "outputs": [],
   "source": [
    "rings = roi.rings(edges, center, avg_img.shape)\n",
    "\n",
    "ring_mask = rings*mask\n",
    "% matplotlib notebook\n",
    "# plot the figure\n",
    "fig, axes = plt.subplots(figsize=(8,8))\n",
    "axes.set_title(\"Labeled Array\")\n",
    "im = mpl_plot.show_label_array(axes, ring_mask, cmap='viridis')\n",
    "plt.show()"
   ]
  },
  {
   "cell_type": "markdown",
   "metadata": {},
   "source": [
    "##  Mean intensities for each ring"
   ]
  },
  {
   "cell_type": "code",
   "execution_count": null,
   "metadata": {
    "collapsed": false
   },
   "outputs": [],
   "source": [
    "mask_data = imgs*mask\n",
    "mean_int_sets, index_list = roi.mean_intensity(mask_data, ring_mask)"
   ]
  },
  {
   "cell_type": "code",
   "execution_count": null,
   "metadata": {
    "collapsed": false
   },
   "outputs": [],
   "source": [
    "time = np.arange(len(imgs))*timeperframe  # get the time for each frame\n",
    "\n",
    "\n",
    "fig, ax = plt.subplots(figsize=(8, 8))\n",
    "ax.set_title(\"Mean intensity of each ring\")\n",
    "for i in range(num_rings):\n",
    "    ax.plot(time, mean_int_sets[:,i], label=\"Ring \"+str(i+1))\n",
    "    ax.set_xlabel(\"Time\")\n",
    "    ax.set_ylabel(\"Mean Intensity\")\n",
    "ax.legend() \n",
    "plt.show()"
   ]
  },
  {
   "cell_type": "markdown",
   "metadata": {
    "collapsed": true
   },
   "source": [
    "## One time Correlation\n",
    "\n",
    "Note : Enter the number of levels and number of buffers for Muliti tau one time correlation\n",
    "number of buffers has to be even. More details in https://github.com/scikit-xray/scikit-xray/blob/master/skxray/core/correlation.py"
   ]
  },
  {
   "cell_type": "code",
   "execution_count": null,
   "metadata": {
    "collapsed": true
   },
   "outputs": [],
   "source": [
    "num_lev = 9  \n",
    "num_buf = 8\n",
    "\n",
    "g2, lag_steps = corr.multi_tau_auto_corr(num_lev, num_buf, ring_mask,\n",
    "                                             imgs*mask)"
   ]
  },
  {
   "cell_type": "code",
   "execution_count": null,
   "metadata": {
    "collapsed": true
   },
   "outputs": [],
   "source": [
    "%matplotlib inline"
   ]
  },
  {
   "cell_type": "markdown",
   "metadata": {},
   "source": [
    "### Plot the one time correlation functions"
   ]
  },
  {
   "cell_type": "code",
   "execution_count": null,
   "metadata": {
    "collapsed": false
   },
   "outputs": [],
   "source": [
    "lags = lag_steps*timeperframe\n",
    "\n",
    "fig, axes = plt.subplots(num_rings, sharex=True, figsize=(5, 30))\n",
    "axes[num_rings-1].set_xlabel(\"lags\")\n",
    "for i in range(num_rings):\n",
    "    axes[i].set_ylabel(\"g2\") \n",
    "    axes[i].set_title(\" Q ring value \" + str(q_ring_val[i, 0]))\n",
    "    axes[i].semilogx(lags, g2[:, i], '-o', markersize=6)\n",
    "    axes[i].set_ylim(bottom=1.10, top=1.15)\n",
    "plt.show()"
   ]
  },
  {
   "cell_type": "code",
   "execution_count": null,
   "metadata": {
    "collapsed": true
   },
   "outputs": [],
   "source": []
  }
 ],
 "metadata": {
  "kernelspec": {
   "display_name": "CHX (py3)",
   "language": "",
   "name": "xf11id-srv1"
  },
  "language_info": {
   "codemirror_mode": {
    "name": "ipython",
    "version": 3
   },
   "file_extension": ".py",
   "mimetype": "text/x-python",
   "name": "python",
   "nbconvert_exporter": "python",
   "pygments_lexer": "ipython3",
   "version": "3.4.3"
  }
 },
 "nbformat": 4,
 "nbformat_minor": 0
}
